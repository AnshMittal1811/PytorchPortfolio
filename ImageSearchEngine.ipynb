{
 "cells": [
  {
   "cell_type": "markdown",
   "metadata": {},
   "source": [
    "### Step 0 Import Dependencies"
   ]
  },
  {
   "cell_type": "code",
   "execution_count": 1,
   "metadata": {},
   "outputs": [],
   "source": [
    "import numpy as np\n",
    "import os\n",
    "import cv2\n",
    "import matplotlib.pyplot as plt\n",
    "import pandas as pd\n",
    "import pickle\n",
    "import tensorflow as tf\n",
    "from tqdm import tqdm_notebook\n",
    "from scipy.spatial.distance import hamming, cosine\n",
    "import tqdm\n",
    "%matplotlib inline"
   ]
  },
  {
   "cell_type": "markdown",
   "metadata": {},
   "source": [
    "### Step 1 Dataset utils and preprocessing"
   ]
  },
  {
   "cell_type": "code",
   "execution_count": 2,
   "metadata": {},
   "outputs": [],
   "source": [
    "def image_loader(image_path, image_size):\n",
    "    '''\n",
    "    Load an image from a disk\n",
    "    \n",
    "    :param image_path: String path to the image\n",
    "    :param image_size: tuple, size of an output image Example image_Size = (32, 32)\n",
    "    '''\n",
    "    image = cv2.imread(image_path)\n",
    "    image = cv2.cvtColor(image, cv2.COLOR_BGR2RGB)\n",
    "    \n",
    "    image = cv2.resize(image, image_size, cv2.INTER_CUBIC)\n",
    "    return image"
   ]
  },
  {
   "cell_type": "code",
   "execution_count": 3,
   "metadata": {},
   "outputs": [],
   "source": [
    "def dataset_preprocessing(dataset_path, labels_file_path, image_size, image_paths_pickle):\n",
    "    '''\n",
    "    Loads images and labels from dataset folder.\n",
    "    \n",
    "    :param dataset_path: String, path to the train/test dataset folder\n",
    "    :param labels_file_path: String, path to the .txt file where classes names are written\n",
    "    :param image_size: tuple, single image size\n",
    "    :param image_paths_pickle: String, name of a pickle file where all image paths will be saved\n",
    "    '''\n",
    "    \n",
    "    with open(labels_file_path, 'r') as f:\n",
    "        classes = f.read().split('\\n')[:-1]\n",
    "        \n",
    "    \n",
    "    images = []\n",
    "    labels = []\n",
    "    image_paths = []\n",
    "    \n",
    "    for image_name in os.listdir(dataset_path):\n",
    "        try:\n",
    "            image_path = os.path.join(dataset_path, image_name)\n",
    "            images.append(image_loader(image_path, image_size))\n",
    "            image_paths.append(image_path)\n",
    "            for idx in range(len(classes)):\n",
    "                if classes[idx] in image_name: #Example: 0_frog.png\n",
    "                    labels.append(idx)\n",
    "        except:\n",
    "            pass\n",
    "    \n",
    "    with open(image_paths_pickle + \".pickle\", 'wb') as f:\n",
    "        pickle.dump(image_paths, f)\n",
    "    \n",
    "    assert len(images) == len(labels)\n",
    "    return np.array(images), np.array(labels)\n"
   ]
  },
  {
   "cell_type": "markdown",
   "metadata": {},
   "source": [
    "### Step 2 Utils function\n",
    "\n",
    "![CosineGraph](./Images/Image1.png \"CosineGraph\")\n",
    "![CosineFormula](./Images/Image2.png \"CosineFormula\")"
   ]
  },
  {
   "cell_type": "code",
   "execution_count": 4,
   "metadata": {},
   "outputs": [],
   "source": [
    "def cosine_distance(training_set_vectors, query_vector, top_n=50):\n",
    "    '''\n",
    "    Calculates cosine distances between query image (vector) and all training set images (vectors).\n",
    "    \n",
    "    :param training_set_vectors: numpy Matrix, vectors for all images in the training set\n",
    "    :param query_vector: numpy vector, query image (new image) vector\n",
    "    :param top_n: integer, number of closest images to return\n",
    "    '''\n",
    "    \n",
    "    distances = []\n",
    "    \n",
    "    for i in range(len(training_set_vectors)): #For Cifar 10 -> 50k images\n",
    "        distances.append(cosine(training_set_vectors[i], query_vector[0]))\n",
    "        \n",
    "    return np.argsort(distances)[:top_n]"
   ]
  },
  {
   "cell_type": "markdown",
   "metadata": {},
   "source": [
    "![HammingDistance](./Images/Image3.png \"HammingDistance\")"
   ]
  },
  {
   "cell_type": "code",
   "execution_count": 5,
   "metadata": {},
   "outputs": [],
   "source": [
    "def hamming_distance(training_set_vectors, query_vector, top_n=50):\n",
    "    '''\n",
    "    Calculates hamming distances between query image (vector) and all training set images (vectors).\n",
    "    \n",
    "    :param training_set_vectors: numpy Matrix, vectors for all images in the training set\n",
    "    :param query_vector: numpy vector, query image (new image) vector\n",
    "    :param top_n: Integer, number of closest images to return\n",
    "    '''\n",
    "     \n",
    "    distances = []\n",
    "    \n",
    "    for i in range(len(training_set_vectors)): #For Cifar 10 -> 50k images\n",
    "        distances.append(hamming(training_set_vectors[i], query_vector[0]))\n",
    "        \n",
    "    return np.argsort(distances)[:top_n]"
   ]
  },
  {
   "cell_type": "code",
   "execution_count": 6,
   "metadata": {},
   "outputs": [],
   "source": [
    "def sparse_accuracy(true_labels, predicted_labels):\n",
    "    '''\n",
    "    Calculates accuracy of a model based on softmax outputs.\n",
    "    \n",
    "    :param true_labels: numpy array, real labels of each sample. Example: [1, 2, 1, 0, 0]\n",
    "    :param predicted_labels: numpy matrix, softmax probabilities. Example [[0.2, 0.1, 0.7], [0.9, 0.05, 0.05]]\n",
    "    '''\n",
    "    \n",
    "    assert len(true_labels) == len(predicted_labels)\n",
    "    correct = 0\n",
    "    \n",
    "    for i in range(len(true_labels)):\n",
    "        if np.argmax(predicted_labels[i]) == true_labels[i]:\n",
    "            correct += 1\n",
    "            \n",
    "    return correct / len(true_labels)"
   ]
  },
  {
   "cell_type": "markdown",
   "metadata": {},
   "source": [
    "### Step 3 Model utils"
   ]
  },
  {
   "cell_type": "code",
   "execution_count": 8,
   "metadata": {},
   "outputs": [],
   "source": [
    "def model_inputs(image_size):\n",
    "    '''\n",
    "    Defines CNN inputs (placeholders).\n",
    "    \n",
    "    :param image_size: tuple, (height, width) of an image\n",
    "    '''\n",
    "    \n",
    "    #-> [Batch_size, image_size[0], image_size[1], 3]\n",
    "    inputs = tf.placeholder(dtype=tf.float32, shape=[None, image_size[0], image_size[1], 3], name='images')\n",
    "    targets = tf.placeholder(dtype=tf.int32, shape=[None,], name='targets')\n",
    "    dropout_prob = tf.placeholder(dtype=tf.float32, name='dropout_probs')\n",
    "    \n",
    "    return inputs, targets, dropout_prob"
   ]
  },
  {
   "cell_type": "code",
   "execution_count": 9,
   "metadata": {},
   "outputs": [],
   "source": [
    "def conv_block(inputs, \n",
    "               number_of_filters, \n",
    "               kernel_size, \n",
    "               strides=(1, 1), \n",
    "               padding='SAME', \n",
    "               activation=tf.nn.relu, \n",
    "               max_pool=True, \n",
    "               batch_norm=True):\n",
    "    \n",
    "    '''\n",
    "    Defines convolutional block layer.\n",
    "    \n",
    "    :param inputs: data from a previous layer\n",
    "    :param number_of_filters: integer, number of conv filters\n",
    "    :param kernel_size: tuple, size of conv layer kernel\n",
    "    :param padding: string, type of padding technique: SAME or VALID\n",
    "    :param activation: tf.object, activation function used on the layer\n",
    "    :param max_pool: boolean, if true the conv block will use max_pool\n",
    "    :param batch_norm: boolean, if true the conv block will use batch normalization\n",
    "    '''\n",
    "    \n",
    "    conv_features = layer = tf.layers.conv2d(inputs=inputs, \n",
    "                                             filters=number_of_filters, \n",
    "                                             kernel_size=kernel_size, \n",
    "                                             strides=strides, \n",
    "                                             padding=padding, \n",
    "                                             activation=activation)\n",
    "    \n",
    "    if max_pool:\n",
    "        layer = tf.layers.max_pooling2d(layer, \n",
    "                                        pool_size=(2, 2), \n",
    "                                        strides=(2, 2),\n",
    "                                        padding='SAME')\n",
    "        \n",
    "    if batch_norm:\n",
    "        layer = tf.layers.batch_normalization(layer)\n",
    "        \n",
    "    return layer, conv_features"
   ]
  },
  {
   "cell_type": "code",
   "execution_count": 10,
   "metadata": {},
   "outputs": [],
   "source": [
    "def dense_block(inputs, \n",
    "                units, \n",
    "                activation=tf.nn.relu, \n",
    "                dropout_rate=None, \n",
    "                batch_norm=True):\n",
    "    \n",
    "    '''\n",
    "    Defines dense block layer.\n",
    "    \n",
    "    :param inputs: data from a previous layer\n",
    "    :param units: integer, number of neurons/units for a dense layer\n",
    "    :param activation: tf.object, activation function used on the layer\n",
    "    :param dropout_rate: dropout rate used in this dense block\n",
    "    :param batch_norm: boolean, if true the conv block will use batch normalization\n",
    "    '''\n",
    "    \n",
    "    dense_features = layer = tf.layers.dense(inputs, \n",
    "                                             units=units, \n",
    "                                             activation=activation)\n",
    "    \n",
    "    if dropout_rate is not None:\n",
    "        layer = tf.layers.dropout(layer, rate=dropout_rate)\n",
    "    \n",
    "    if batch_norm:\n",
    "        layer = tf.layers.batch_normalization(layer)\n",
    "        \n",
    "    return layer, dense_features"
   ]
  },
  {
   "cell_type": "code",
   "execution_count": 11,
   "metadata": {},
   "outputs": [],
   "source": [
    "def opt_loss(logits, \n",
    "             targets, \n",
    "             learning_rate):\n",
    "    \n",
    "    '''\n",
    "    Defines model's optimizer and loss functions.\n",
    "    \n",
    "    :param logits: pre-activated model outputs\n",
    "    :param targets: true labels for each input sample\n",
    "    :param learning_rate: learning_rate\n",
    "    '''\n",
    "    \n",
    "    loss = tf.reduce_mean(tf.nn.sparse_softmax_cross_entropy_with_logits(labels=targets, logits=logits))\n",
    "    \n",
    "    optimizer = tf.train.AdamOptimizer(learning_rate=learning_rate).minimize(loss)\n",
    "    \n",
    "    return loss, optimizer"
   ]
  },
  {
   "cell_type": "markdown",
   "metadata": {},
   "source": [
    "![Architecture](./Images/Image4.png \"Architecture\")\n",
    "\n",
    "Image Credits: https://github.com/deep-diver/CIFAR10-img-classification-tensorflow"
   ]
  },
  {
   "cell_type": "code",
   "execution_count": 13,
   "metadata": {},
   "outputs": [],
   "source": [
    "class ImageSearchModel(object):\n",
    "    \n",
    "    def __init__(self, \n",
    "                 learning_rate, \n",
    "                 image_size, \n",
    "                 number_of_classes=10):\n",
    "        \n",
    "        '''\n",
    "        Defines CNN model.\n",
    "        \n",
    "        :param learning_rate: learning_rate\n",
    "        :param image_size: tuple, (height, width) of an image\n",
    "        :param number_of_classes: integer, number of classes in a dataset.\n",
    "        '''\n",
    "        # Reset tensorflow graphs, no nested  model graphs\n",
    "        tf.reset_default_graph()\n",
    "        \n",
    "        #model inputs\n",
    "        self.inputs, self.targets, self.dropout_rate = model_inputs(image_size)\n",
    "        \n",
    "        normalized_images = tf.layers.batch_normalization(self.inputs)\n",
    "        \n",
    "        #conv_1 block\n",
    "        conv_block_1, self.conv_1_features = conv_block(inputs=normalized_images, \n",
    "                                                        number_of_filters=64, \n",
    "                                                        kernel_size=(3, 3), \n",
    "                                                        strides=(1, 1), \n",
    "                                                        padding='SAME', \n",
    "                                                        activation=tf.nn.relu, \n",
    "                                                        max_pool=True, \n",
    "                                                        batch_norm=True)\n",
    "        \n",
    " \n",
    "        #conv_2 block\n",
    "        conv_block_2, self.conv_2_features = conv_block(inputs=conv_block_1, \n",
    "                                                        number_of_filters=128, \n",
    "                                                        kernel_size=(3, 3), \n",
    "                                                        strides=(1, 1), \n",
    "                                                        padding='SAME', \n",
    "                                                        activation=tf.nn.relu, \n",
    "                                                        max_pool=True, \n",
    "                                                        batch_norm=True)\n",
    "        \n",
    "        #conv_3 block\n",
    "        conv_block_3, self.conv_3_features = conv_block(inputs=conv_block_2, \n",
    "                                                        number_of_filters=256, \n",
    "                                                        kernel_size=(5, 5), \n",
    "                                                        strides=(1, 1), \n",
    "                                                        padding='SAME', \n",
    "                                                        activation=tf.nn.relu, \n",
    "                                                        max_pool=True, \n",
    "                                                        batch_norm=True)\n",
    "        \n",
    "        #conv_4 block\n",
    "        conv_block_4, self.conv_4_features = conv_block(inputs=conv_block_3, \n",
    "                                                        number_of_filters=512, \n",
    "                                                        kernel_size=(5, 5), \n",
    "                                                        strides=(1, 1), \n",
    "                                                        padding='SAME', \n",
    "                                                        activation=tf.nn.relu, \n",
    "                                                        max_pool=True, \n",
    "                                                        batch_norm=True)\n",
    "        \n",
    "        #flattening\n",
    "        flat_layer = tf.layers.flatten(conv_block_4)\n",
    "        \n",
    "        #1st dense block\n",
    "        dense_block_1, dense_1_features = dense_block(inputs=flat_layer, \n",
    "                                                       units=128, \n",
    "                                                       activation=tf.nn.relu, \n",
    "                                                       dropout_rate=self.dropout_rate, \n",
    "                                                       batch_norm=True)\n",
    "        \n",
    "        #2nd dense block\n",
    "        dense_block_2, self.dense_2_features = dense_block(inputs=dense_block_1,\n",
    "                                                           units=256,\n",
    "                                                           activation=tf.nn.relu,\n",
    "                                                           dropout_rate=self.dropout_rate,\n",
    "                                                           batch_norm=True)\n",
    "        \n",
    "        #3rd dense block\n",
    "        dense_block_3, self.dense_3_features = dense_block(inputs=dense_block_2,\n",
    "                                                           units=512, \n",
    "                                                           activation=tf.nn.relu,\n",
    "                                                           dropout_rate=self.dropout_rate,\n",
    "                                                           batch_norm=True)\n",
    "        \n",
    "        #4th dense block\n",
    "        dense_block_4, self.dense_4_features = dense_block(inputs=dense_block_3,\n",
    "                                                           units=1024, \n",
    "                                                           activation=tf.nn.relu, \n",
    "                                                           dropout_rate=self.dropout_rate,\n",
    "                                                           batch_norm=True)\n",
    "        \n",
    "        #output layer\n",
    "        logits = tf.layers.dense(inputs=dense_block_4, \n",
    "                                 units=number_of_classes, \n",
    "                                 activation=None)\n",
    "        \n",
    "        self.predictions = tf.nn.softmax(logits)\n",
    "        \n",
    "        self.loss, self.optimizer = opt_loss(logits=logits, \n",
    "                                             targets=self.targets, \n",
    "                                             learning_rate=learning_rate)"
   ]
  },
  {
   "cell_type": "markdown",
   "metadata": {},
   "source": [
    "### Step 4 Training loop - training the model"
   ]
  },
  {
   "cell_type": "code",
   "execution_count": 14,
   "metadata": {},
   "outputs": [],
   "source": [
    "def train(model, \n",
    "          epochs,\n",
    "          drop_rate,\n",
    "          batch_size, \n",
    "          data, \n",
    "          save_dir, \n",
    "          saver_delta=0.15):\n",
    "    \n",
    "    '''\n",
    "    The core training function, use this function to train a model.\n",
    "    \n",
    "    :param model: CNN model\n",
    "    :param epochs: integer, number of epochs\n",
    "    :param drop_rate: float, dropout_rate\n",
    "    :param batch_size: integer, number of samples to put through the model at once\n",
    "    :param data: tuple, train-test data Example(X_train, y_train, X_test, y_test)\n",
    "    :param save_dir: string, path to a folder where model checkpoints will be saved\n",
    "    :param saver_delta: float, used to prevent overfitted model to be saved\n",
    "    '''\n",
    "    \n",
    "    \n",
    "    X_train, y_train, X_test, y_test = data\n",
    "    \n",
    "    #start session\n",
    "    session = tf.Session()\n",
    "    session.run(tf.global_variables_initializer())\n",
    "    \n",
    "    #define saver\n",
    "    saver = tf.train.Saver()\n",
    "    \n",
    "    best_test_accuracy = 0.0\n",
    "    \n",
    "    #start training loop\n",
    "    for epoch in range(epochs):\n",
    "        \n",
    "        train_accuracy = []\n",
    "        train_loss = []\n",
    "        \n",
    "        for ii in tqdm(range(len(X_train) // batch_size)):\n",
    "            start_id = ii*batch_size\n",
    "            end_id = start_id + batch_size\n",
    "            \n",
    "            X_batch = X_train[start_id:end_id]\n",
    "            y_batch = y_train[start_id:end_id]\n",
    "            \n",
    "            feed_dict = {model.inputs:X_batch, \n",
    "                         model.targets:y_batch, \n",
    "                         model.dropout_rate:drop_rate}\n",
    "            \n",
    "            _, t_loss, preds_t = session.run([model.optimizer, \n",
    "                                              model.loss, \n",
    "                                              model.predictions], \n",
    "                                             feed_dict=feed_dict)\n",
    "            \n",
    "            train_accuracy.append(sparse_accuracy(y_batch, preds_t))\n",
    "            train_loss.append(t_loss)\n",
    "            \n",
    "        print(\"Epoch: {}/{}\".format(epoch, epochs),  \n",
    "              \" | Training accuracy: {}\".format(np.mean(train_accuracy)), \n",
    "              \" | Training loss: {}\".format(np.mean(train_loss)) )\n",
    "        \n",
    "        \n",
    "        \n",
    "        # testing loop\n",
    "        test_accuracy = []\n",
    "        \n",
    "        for ii in tqdm(range(len(X_test) // batch_size)):\n",
    "            start_id = ii*batch_size\n",
    "            end_id = start_id + batch_size\n",
    "            \n",
    "            X_batch = X_test[start_id:end_id]\n",
    "            y_batch = y_test[start_id:end_id]\n",
    "            \n",
    "            feed_dict = {model.inputs:X_batch, \n",
    "                         model.dropout_rate:0.0}\n",
    "            \n",
    "            preds_test = session.run(model.predictions, \n",
    "                                     feed_dict=feed_dict)\n",
    "            \n",
    "            test_accuracy.append(sparse_accuracy(y_batch, preds_test))\n",
    "            \n",
    "        print(\"Test accuracy: {}\".format(np.mean(test_accuracy)))\n",
    "        \n",
    "        #saving the model\n",
    "        if np.mean(train_accuracy) > np.mean(test_accuracy): #to prevent underfitting\n",
    "            if np.abs(np.mean(train_accuracy) - np.mean(test_accuracy)) <= saver_delta: #to prevent overfit\n",
    "                if np.mean(test_accuracy) >= best_test_accuracy:\n",
    "                    best_test_accuracy = np.mean(test_accuracy)\n",
    "                    saver.save(session, \"{}/model_epoch_{}.ckpt\".format(save_dir, epoch))\n",
    "                    \n",
    "    session.close()"
   ]
  },
  {
   "cell_type": "markdown",
   "metadata": {},
   "source": [
    "#### Setting hyperparameters and training the model"
   ]
  },
  {
   "cell_type": "code",
   "execution_count": 15,
   "metadata": {},
   "outputs": [],
   "source": [
    "epochs = 100\n",
    "batch_size = 128\n",
    "learning_rate = 0.001\n",
    "dropout_probs = 0.6\n",
    "image_size = (32, 32)"
   ]
  },
  {
   "cell_type": "code",
   "execution_count": 16,
   "metadata": {},
   "outputs": [],
   "source": [
    "X_train, y_train = dataset_preprocessing('cifar/train/', \n",
    "                                         'cifar/labels.txt', \n",
    "                                         image_size=image_size, \n",
    "                                         image_paths_pickle=\"train_images_pickle\")"
   ]
  },
  {
   "cell_type": "code",
   "execution_count": 17,
   "metadata": {},
   "outputs": [
    {
     "data": {
      "text/plain": [
       "(50000, 32, 32, 3)"
      ]
     },
     "execution_count": 17,
     "metadata": {},
     "output_type": "execute_result"
    }
   ],
   "source": [
    "X_train.shape"
   ]
  },
  {
   "cell_type": "code",
   "execution_count": 18,
   "metadata": {},
   "outputs": [],
   "source": [
    "X_test, y_test = dataset_preprocessing('cifar/test/', \n",
    "                                       'cifar/labels.txt', \n",
    "                                       image_size=image_size, \n",
    "                                       image_paths_pickle=\"test_images_pickle\")"
   ]
  },
  {
   "cell_type": "code",
   "execution_count": 19,
   "metadata": {},
   "outputs": [
    {
     "data": {
      "text/plain": [
       "(10000, 32, 32, 3)"
      ]
     },
     "execution_count": 19,
     "metadata": {},
     "output_type": "execute_result"
    }
   ],
   "source": [
    "X_test.shape"
   ]
  },
  {
   "cell_type": "code",
   "execution_count": 20,
   "metadata": {},
   "outputs": [],
   "source": [
    "#define the model\n",
    "model = ImageSearchModel(learning_rate, image_size)"
   ]
  },
  {
   "cell_type": "code",
   "execution_count": 21,
   "metadata": {},
   "outputs": [],
   "source": [
    "data = (X_train, y_train, X_test, y_test)"
   ]
  },
  {
   "cell_type": "code",
   "execution_count": 23,
   "metadata": {},
   "outputs": [
    {
     "ename": "TypeError",
     "evalue": "'module' object is not callable",
     "output_type": "error",
     "traceback": [
      "\u001b[1;31m---------------------------------------------------------------------------\u001b[0m",
      "\u001b[1;31mTypeError\u001b[0m                                 Traceback (most recent call last)",
      "\u001b[1;32m<ipython-input-23-a8505273eb04>\u001b[0m in \u001b[0;36m<module>\u001b[1;34m()\u001b[0m\n\u001b[0;32m      1\u001b[0m \u001b[1;32mimport\u001b[0m \u001b[0mtqdm\u001b[0m\u001b[1;33m\u001b[0m\u001b[0m\n\u001b[1;32m----> 2\u001b[1;33m \u001b[0mtrain\u001b[0m\u001b[1;33m(\u001b[0m\u001b[0mmodel\u001b[0m\u001b[1;33m,\u001b[0m \u001b[0mepochs\u001b[0m\u001b[1;33m,\u001b[0m \u001b[0mdropout_probs\u001b[0m\u001b[1;33m,\u001b[0m \u001b[0mbatch_size\u001b[0m\u001b[1;33m,\u001b[0m \u001b[0mdata\u001b[0m\u001b[1;33m,\u001b[0m \u001b[1;34m'saver'\u001b[0m\u001b[1;33m)\u001b[0m\u001b[1;33m\u001b[0m\u001b[0m\n\u001b[0m",
      "\u001b[1;32m<ipython-input-14-4e11d7b5461c>\u001b[0m in \u001b[0;36mtrain\u001b[1;34m(model, epochs, drop_rate, batch_size, data, save_dir, saver_delta)\u001b[0m\n\u001b[0;32m     37\u001b[0m         \u001b[0mtrain_loss\u001b[0m \u001b[1;33m=\u001b[0m \u001b[1;33m[\u001b[0m\u001b[1;33m]\u001b[0m\u001b[1;33m\u001b[0m\u001b[0m\n\u001b[0;32m     38\u001b[0m \u001b[1;33m\u001b[0m\u001b[0m\n\u001b[1;32m---> 39\u001b[1;33m         \u001b[1;32mfor\u001b[0m \u001b[0mii\u001b[0m \u001b[1;32min\u001b[0m \u001b[0mtqdm\u001b[0m\u001b[1;33m(\u001b[0m\u001b[0mrange\u001b[0m\u001b[1;33m(\u001b[0m\u001b[0mlen\u001b[0m\u001b[1;33m(\u001b[0m\u001b[0mX_train\u001b[0m\u001b[1;33m)\u001b[0m \u001b[1;33m//\u001b[0m \u001b[0mbatch_size\u001b[0m\u001b[1;33m)\u001b[0m\u001b[1;33m)\u001b[0m\u001b[1;33m:\u001b[0m\u001b[1;33m\u001b[0m\u001b[0m\n\u001b[0m\u001b[0;32m     40\u001b[0m             \u001b[0mstart_id\u001b[0m \u001b[1;33m=\u001b[0m \u001b[0mii\u001b[0m\u001b[1;33m*\u001b[0m\u001b[0mbatch_size\u001b[0m\u001b[1;33m\u001b[0m\u001b[0m\n\u001b[0;32m     41\u001b[0m             \u001b[0mend_id\u001b[0m \u001b[1;33m=\u001b[0m \u001b[0mstart_id\u001b[0m \u001b[1;33m+\u001b[0m \u001b[0mbatch_size\u001b[0m\u001b[1;33m\u001b[0m\u001b[0m\n",
      "\u001b[1;31mTypeError\u001b[0m: 'module' object is not callable"
     ]
    }
   ],
   "source": [
    "\n",
    "train(model, epochs, dropout_probs, batch_size, data, 'saver')"
   ]
  },
  {
   "cell_type": "markdown",
   "metadata": {},
   "source": [
    "### Step 6 Create training set vectors | Define Inference function\n",
    "\n",
    "![ArchitectureExplained](./Images/Image5.png \"ArchitectureExplained\")\n",
    "![Hamming](./Images/Image6.png \"Hamming\")"
   ]
  },
  {
   "cell_type": "code",
   "execution_count": null,
   "metadata": {},
   "outputs": [],
   "source": [
    "def create_training_set_vectors(model, \n",
    "                                X_train, \n",
    "                                y_train,\n",
    "                                batch_size,\n",
    "                                checkpoint_path, \n",
    "                                image_size, \n",
    "                                distance='hamming'):\n",
    "    \n",
    "    '''\n",
    "    Creates training set vectors and saves them in a pickle file.\n",
    "    \n",
    "    :param model: CNN model\n",
    "    :param X_train: numpy array, loaded training set images\n",
    "    :param y_train: numpy array,loaded training set labels\n",
    "    :param batch_size: integer, number of samples to put trhough the model at once\n",
    "    :param checkpoint_path: string, path to the model checkpoint\n",
    "    :param image_size: tuple, single image (height, width)\n",
    "    :param distance: string, type of distance to be used, \n",
    "                             this parameter is used to choose a way how to prepare and save training set vectors\n",
    "    '''\n",
    "            \n",
    "    #Define session\n",
    "    session = tf.Session()\n",
    "    session.run(tf.global_variables_initializer())\n",
    "    \n",
    "    #restore session\n",
    "    saver = tf.train.Saver()\n",
    "    saver.restore(session, checkpoint_path)\n",
    "    \n",
    "    dense_2_features = []\n",
    "    dense_4_features = []\n",
    "\n",
    "    #iterate through training set\n",
    "    for ii in tqdm(range(len(X_train) // batch_size)):\n",
    "        start_id = ii*batch_size\n",
    "        end_id = start_id + batch_size\n",
    "\n",
    "        X_batch = X_train[start_id:end_id]\n",
    "\n",
    "        feed_dict = {model.inputs:X_batch, \n",
    "                     model.dropout_rate:0.0}\n",
    "        \n",
    "        dense_2, dense_4 = session.run([model.dense_2_features, model.dense_4_features], feed_dict=feed_dict)\n",
    "        \n",
    "        dense_2_features.append(dense_2)\n",
    "        dense_4_features.append(dense_4)\n",
    "        \n",
    "    dense_2_features = np.vstack(dense_2_features)\n",
    "    dense_4_features = np.vstack(dense_4_features)\n",
    "    #hamming distance - vectors processing\n",
    "    if distance == 'hamming':\n",
    "        dense_2_features = np.where(dense_2_features < 0.5, 0, 1) #binarize vectors\n",
    "        dense_4_features = np.where(dense_4_features < 0.5, 0, 1)\n",
    "        \n",
    "        training_vectors = np.hstack((dense_2_features, dense_4_features))\n",
    "        with open('hamming_train_vectors.pickle', 'wb') as f:\n",
    "            pickle.dump(training_vectors, f)\n",
    "            \n",
    "    #cosine distance - vectors processing\n",
    "    elif distance == 'cosine':\n",
    "        training_vectors = np.hstack((dense_2_features, dense_4_features))\n",
    "        training_vectors = np.hstack((training_vectors, color_features[:len(training_vectors)]))\n",
    "        with open('cosine_train_vectors.pickle', 'wb') as f:\n",
    "            pickle.dump(training_vectors, f)"
   ]
  },
  {
   "cell_type": "code",
   "execution_count": null,
   "metadata": {},
   "outputs": [],
   "source": [
    "def create_training_set_vectors_with_colors(model, \n",
    "                                            X_train, \n",
    "                                            y_train,\n",
    "                                            batch_size,\n",
    "                                            checkpoint_path, \n",
    "                                            image_size, \n",
    "                                            distance='hamming'):\n",
    "    \n",
    "    '''\n",
    "    Creates training set vectors and saves them in a pickle file.\n",
    "    \n",
    "    :param model: CNN model\n",
    "    :param X_train: numpy array, loaded training set images\n",
    "    :param y_train: numpy array,loaded training set labels\n",
    "    :param batch_size: integer, number of samples to put trhough the model at once\n",
    "    :param checkpoint_path: string, path to the model checkpoint\n",
    "    :param image_size: tuple, single image (height, width)\n",
    "    :param distance: string, type of distance to be used, \n",
    "                             this parameter is used to choose a way how to prepare and save training set vectors\n",
    "    '''\n",
    "            \n",
    "    #Define session\n",
    "    session = tf.Session()\n",
    "    session.run(tf.global_variables_initializer())\n",
    "    \n",
    "    #restore session\n",
    "    saver = tf.train.Saver()\n",
    "    saver.restore(session, checkpoint_path)\n",
    "    \n",
    "    dense_2_features = []\n",
    "    dense_4_features = []\n",
    "    \n",
    "    ##########################################################################\n",
    "    ### Calculate color feature vectors for each image in the training set ###\n",
    "    color_features = []\n",
    "    for img in X_train:\n",
    "        channels = cv2.split(img)\n",
    "        features = []\n",
    "        for chan in channels:\n",
    "            hist = cv2.calcHist([chan], [0], None, [256], [0, 256])\n",
    "            features.append(hist)\n",
    "            \n",
    "        color_features.append(np.vstack(features).squeeze())\n",
    "    ##########################################################################\n",
    "    \n",
    "    #iterate through training set\n",
    "    for ii in tqdm(range(len(X_train) // batch_size)):\n",
    "        start_id = ii*batch_size\n",
    "        end_id = start_id + batch_size\n",
    "\n",
    "        X_batch = X_train[start_id:end_id]\n",
    "\n",
    "        feed_dict = {model.inputs:X_batch, \n",
    "                     model.dropout_rate:0.0}\n",
    "        \n",
    "        dense_2, dense_4 = session.run([model.dense_2_features, model.dense_4_features], feed_dict=feed_dict)\n",
    "        \n",
    "        dense_2_features.append(dense_2)\n",
    "        dense_4_features.append(dense_4)\n",
    "        \n",
    "    dense_2_features = np.vstack(dense_2_features)\n",
    "    dense_4_features = np.vstack(dense_4_features)\n",
    "    #hamming distance - vectors processing\n",
    "    if distance == 'hamming':\n",
    "        dense_2_features = np.where(dense_2_features < 0.5, 0, 1) #binarize vectors\n",
    "        dense_4_features = np.where(dense_4_features < 0.5, 0, 1)\n",
    "        \n",
    "        training_vectors = np.hstack((dense_2_features, dense_4_features))\n",
    "        with open('hamming_train_vectors.pickle', 'wb') as f:\n",
    "            pickle.dump(training_vectors, f)\n",
    "            \n",
    "    #cosine distance - vectors processing\n",
    "    elif distance == 'cosine':\n",
    "        training_vectors = np.hstack((dense_2_features, dense_4_features))\n",
    "        training_vectors = np.hstack((training_vectors, color_features[:len(training_vectors)]))\n",
    "        with open('cosine_train_vectors.pickle', 'wb') as f:\n",
    "            pickle.dump(training_vectors, f)\n",
    "            \n",
    "    #########################################################################\n",
    "    ### Save training set color feature vectors to a separate pickle file ###\n",
    "    with open('color_vectors.pickle', 'wb') as f:\n",
    "        pickle.dump(color_features[:len(training_vectors)], f)\n",
    "    #########################################################################"
   ]
  },
  {
   "cell_type": "code",
   "execution_count": null,
   "metadata": {},
   "outputs": [],
   "source": [
    "model = ImageSearchModel(learning_rate=learning_rate, image_size=image_size)"
   ]
  },
  {
   "cell_type": "code",
   "execution_count": null,
   "metadata": {},
   "outputs": [],
   "source": [
    "create_training_set_vectors(model, X_train, y_train, batch_size, 'saver/model_epoch_5.ckpt', image_size)"
   ]
  },
  {
   "cell_type": "code",
   "execution_count": null,
   "metadata": {},
   "outputs": [],
   "source": [
    "def compare_color(color_vectors, \n",
    "                  uploaded_image_colors, \n",
    "                  ids):\n",
    "    '''\n",
    "    Comparing color vectors of closest images from the training set with a color vector of a uploaded image (query image).\n",
    "    \n",
    "    :param color_vectors: color features vectors of closest training set images to the uploaded image\n",
    "    :param uploaded_image_colors: color vector of the uploaded image\n",
    "    :param ids: indices of training images being closest to the uploaded image (output from a distance function) \n",
    "    '''\n",
    "    color_distances = []\n",
    "    \n",
    "    for i in range(len(color_vectors)):\n",
    "        color_distances.append(euclidean(color_vectors[i], uploaded_image_colors))\n",
    "        \n",
    "    #The 15 is just an random number that I have choosen, you can return as many as you need/want\n",
    "    return ids[np.argsort(color_distances)[:15]]"
   ]
  },
  {
   "cell_type": "code",
   "execution_count": null,
   "metadata": {},
   "outputs": [],
   "source": [
    "def simple_inference(model, \n",
    "                     session,\n",
    "                     train_set_vectors, \n",
    "                     uploaded_image_path,\n",
    "                     image_size, \n",
    "                     distance='hamming'):\n",
    "    \n",
    "    '''\n",
    "    Doing simple inference for single uploaded image.\n",
    "    \n",
    "    :param model: CNN model\n",
    "    :param session: tf.Session, restored session\n",
    "    :param train_set_vectors: loaded training set vectors\n",
    "    :param uploaded_image_path: string, path to the uploaded image\n",
    "    :param image_size: tuple, single image (height, width)\n",
    "    :param dsitance: string, type of distance to be used, \n",
    "                             this parameter is used to choose a way how to prepare vectors\n",
    "    '''\n",
    "    \n",
    "    image = image_loader(uploaded_image_path, image_size)\n",
    "    channels = cv2.split(image)\n",
    "    features = []\n",
    "    \n",
    "    for chan in channels:\n",
    "        hist = cv2.calcHist([chan], [0], None, [256], [0, 256])\n",
    "        features.append(hist)\n",
    "\n",
    "    color_features = np.vstack(features).T\n",
    "    \n",
    "    feed_dict = {model.inputs:[image], model.dropout_rate:0.0}\n",
    "    \n",
    "    dense_2_features, dense_4_features = session.run([model.dense_2_features, model.dense_4_features], feed_dict=feed_dict)\n",
    "    \n",
    "    closest_ids = None\n",
    "    if distance == 'hamming':\n",
    "        dense_2_features = np.where(dense_2_features < 0.5, 0, 1)\n",
    "        dense_4_features = np.where(dense_4_features < 0.5, 0, 1)\n",
    "        \n",
    "        uploaded_image_vector = np.hstack((dense_2_features, dense_4_features))\n",
    "        \n",
    "        closest_ids = hamming_distance(train_set_vectors, uploaded_image_vector)\n",
    "        \n",
    "    elif distance == 'cosine':\n",
    "        uploaded_image_vector = np.hstack((dense_2_features, dense_4_features))\n",
    "        \n",
    "        closest_ids = cosine_distance(train_set_vectors, uploaded_image_vector)\n",
    "        \n",
    "    return closest_ids"
   ]
  },
  {
   "cell_type": "code",
   "execution_count": null,
   "metadata": {},
   "outputs": [],
   "source": [
    "def simple_inference_with_color_filters(model, \n",
    "                                         session,\n",
    "                                         train_set_vectors, \n",
    "                                         uploaded_image_path,\n",
    "                                         color_vectors,\n",
    "                                         image_size, \n",
    "                                         distance='hamming'):\n",
    "    \n",
    "    '''\n",
    "    Doing simple inference for single uploaded image.\n",
    "    \n",
    "    :param model: CNN model\n",
    "    :param session: tf.Session, restored session\n",
    "    :param train_set_vectors: loaded training set vectors\n",
    "    :param uploaded_image_path: string, path to the uploaded image\n",
    "    :param color_vectors: loaded training set color features vectors\n",
    "    :param image_size: tuple, single image (height, width)\n",
    "    :param dsitance: string, type of distance to be used, \n",
    "                             this parameter is used to choose a way how to prepare vectors\n",
    "    '''\n",
    "    \n",
    "    image = image_loader(uploaded_image_path, image_size)\n",
    "    \n",
    "    ####################################################\n",
    "    ## Calculating color histogram of the query image ##\n",
    "    channels = cv2.split(image)\n",
    "    features = []\n",
    "    for chan in channels:\n",
    "        hist = cv2.calcHist([chan], [0], None, [256], [0, 256])\n",
    "        features.append(hist)\n",
    "\n",
    "    color_features = np.vstack(features).T\n",
    "    ####################################################\n",
    "    \n",
    "    feed_dict = {model.inputs:[image], model.dropout_rate:0.0}\n",
    "    \n",
    "    dense_2_features, dense_4_features = session.run([model.dense_2_features, model.dense_4_features], feed_dict=feed_dict)\n",
    "    \n",
    "    closest_ids = None\n",
    "    if distance == 'hamming':\n",
    "        dense_2_features = np.where(dense_2_features < 0.5, 0, 1)\n",
    "        dense_4_features = np.where(dense_4_features < 0.5, 0, 1)\n",
    "        \n",
    "        uploaded_image_vector = np.hstack((dense_2_features, dense_4_features))\n",
    "        \n",
    "        closest_ids = hamming_distance(train_set_vectors, uploaded_image_vector)\n",
    "        \n",
    "        #Comparing color features between query image and closest images selected by the model\n",
    "        closest_ids = compare_color(np.array(color_vectors)[closest_ids], color_features, closest_ids)\n",
    "        \n",
    "    elif distance == 'cosine':\n",
    "        uploaded_image_vector = np.hstack((dense_2_features, dense_4_features))\n",
    "        \n",
    "        closest_ids = cosine_distance(train_set_vectors, uploaded_image_vector)\n",
    "        \n",
    "        #Comparing color features between query image and closest images selected by the model\n",
    "        closest_ids = compare_color(np.array(color_vectors)[closest_ids], color_features, closest_ids)\n",
    "        \n",
    "    return closest_ids"
   ]
  },
  {
   "cell_type": "markdown",
   "metadata": {},
   "source": [
    "#### Pipeline Text\n",
    "##### Define session and model"
   ]
  },
  {
   "cell_type": "code",
   "execution_count": null,
   "metadata": {},
   "outputs": [],
   "source": [
    "model = ImageSearchModel(learning_rate=learning_rate, image_size=image_size)\n",
    "\n",
    "session = tf.Session()\n",
    "session.run(tf.global_variables_initializer())"
   ]
  },
  {
   "cell_type": "markdown",
   "metadata": {},
   "source": [
    "##### Restore session"
   ]
  },
  {
   "cell_type": "code",
   "execution_count": null,
   "metadata": {},
   "outputs": [],
   "source": [
    "saver = tf.train.Saver()\n",
    "saver.restore(session, \"saver/model_epoch_5.ckpt\")"
   ]
  },
  {
   "cell_type": "markdown",
   "metadata": {},
   "source": [
    "##### Load training set image paths"
   ]
  },
  {
   "cell_type": "code",
   "execution_count": null,
   "metadata": {},
   "outputs": [],
   "source": [
    "with open('train_images_pickle.pickle', 'rb') as f:\n",
    "    train_image_paths = pickle.load(f)"
   ]
  },
  {
   "cell_type": "code",
   "execution_count": null,
   "metadata": {},
   "outputs": [],
   "source": [
    "train_image_paths[:10]"
   ]
  },
  {
   "cell_type": "markdown",
   "metadata": {},
   "source": [
    "##### Load trainig set vectors"
   ]
  },
  {
   "cell_type": "code",
   "execution_count": null,
   "metadata": {},
   "outputs": [],
   "source": [
    "with open('hamming_train_vectors_new.pickle', 'rb') as f:\n",
    "    train_set_vectors = pickle.load(f)"
   ]
  },
  {
   "cell_type": "code",
   "execution_count": null,
   "metadata": {},
   "outputs": [],
   "source": [
    "with open('color_vectors.pickle', 'rb') as f:\n",
    "    color_vectors = pickle.load(f)"
   ]
  },
  {
   "cell_type": "code",
   "execution_count": null,
   "metadata": {},
   "outputs": [],
   "source": [
    "test_image = 'dataset/test/1052_airplane.png'"
   ]
  },
  {
   "cell_type": "markdown",
   "metadata": {},
   "source": [
    "##### Get closest images - ids"
   ]
  },
  {
   "cell_type": "code",
   "execution_count": null,
   "metadata": {},
   "outputs": [],
   "source": [
    "result_ids = simple_inference(model, session, train_set_vectors, test_image, color_vectors, image_size, distance='hamming')"
   ]
  },
  {
   "cell_type": "markdown",
   "metadata": {},
   "source": [
    "#### Show query image"
   ]
  },
  {
   "cell_type": "code",
   "execution_count": null,
   "metadata": {},
   "outputs": [],
   "source": [
    "plt.imshow(image_loader(test_image, image_size))"
   ]
  },
  {
   "cell_type": "markdown",
   "metadata": {},
   "source": [
    "#### Show result images"
   ]
  },
  {
   "cell_type": "code",
   "execution_count": null,
   "metadata": {},
   "outputs": [],
   "source": [
    "w = 10\n",
    "h = 10\n",
    "fig = plt.figure(figsize=(16, 16))\n",
    "colums = 10\n",
    "rows = 5\n",
    "for i in range(1, colums*rows+1):\n",
    "    try:\n",
    "        image = image_loader(train_image_paths[result_ids[i]], image_size)\n",
    "        fig.add_subplot(rows, colums, i)\n",
    "        plt.imshow(image)\n",
    "    except:\n",
    "        pass\n",
    "plt.show()\n"
   ]
  },
  {
   "cell_type": "code",
   "execution_count": null,
   "metadata": {},
   "outputs": [],
   "source": []
  },
  {
   "cell_type": "code",
   "execution_count": null,
   "metadata": {},
   "outputs": [],
   "source": [
    "chans = cv2.split(X_train[0])\n",
    "features = []\n",
    "for chan in chans:\n",
    "    hist = cv2.calcHist([chan], [0], None, [256], [0, 256])\n",
    "    features.append(hist)\n",
    "    \n",
    "    plt.plot(hist)\n",
    "    plt.xlim([0, 256])"
   ]
  },
  {
   "cell_type": "code",
   "execution_count": null,
   "metadata": {},
   "outputs": [],
   "source": [
    "np.array(features).shape"
   ]
  },
  {
   "cell_type": "code",
   "execution_count": null,
   "metadata": {},
   "outputs": [],
   "source": [
    "np.vstack(features).squeeze()"
   ]
  },
  {
   "cell_type": "code",
   "execution_count": null,
   "metadata": {},
   "outputs": [],
   "source": []
  },
  {
   "cell_type": "code",
   "execution_count": null,
   "metadata": {},
   "outputs": [],
   "source": []
  },
  {
   "cell_type": "code",
   "execution_count": null,
   "metadata": {},
   "outputs": [],
   "source": []
  },
  {
   "cell_type": "code",
   "execution_count": null,
   "metadata": {},
   "outputs": [],
   "source": []
  }
 ],
 "metadata": {
  "kernelspec": {
   "display_name": "Python 3",
   "language": "python",
   "name": "python3"
  },
  "language_info": {
   "codemirror_mode": {
    "name": "ipython",
    "version": 3
   },
   "file_extension": ".py",
   "mimetype": "text/x-python",
   "name": "python",
   "nbconvert_exporter": "python",
   "pygments_lexer": "ipython3",
   "version": "3.6.6"
  }
 },
 "nbformat": 4,
 "nbformat_minor": 2
}
